{
 "cells": [
  {
   "cell_type": "markdown",
   "metadata": {},
   "source": [
    "# ML Pipeline Preparation\n",
    "Follow the instructions below to help you create your ML pipeline.\n",
    "### 1. Import libraries and load data from database.\n",
    "- Import Python libraries\n",
    "- Load dataset from database with [`read_sql_table`](https://pandas.pydata.org/pandas-docs/stable/generated/pandas.read_sql_table.html)\n",
    "- Define feature and target variables X and Y"
   ]
  },
  {
   "cell_type": "code",
   "execution_count": 1,
   "metadata": {},
   "outputs": [
    {
     "name": "stderr",
     "output_type": "stream",
     "text": [
      "[nltk_data] Downloading package punkt to C:\\Users\\Captain\n",
      "[nltk_data]     Nemo\\AppData\\Roaming\\nltk_data...\n",
      "[nltk_data]   Package punkt is already up-to-date!\n",
      "[nltk_data] Downloading package wordnet to C:\\Users\\Captain\n",
      "[nltk_data]     Nemo\\AppData\\Roaming\\nltk_data...\n",
      "[nltk_data]   Package wordnet is already up-to-date!\n",
      "[nltk_data] Downloading package averaged_perceptron_tagger to\n",
      "[nltk_data]     C:\\Users\\Captain Nemo\\AppData\\Roaming\\nltk_data...\n",
      "[nltk_data]   Package averaged_perceptron_tagger is already up-to-\n",
      "[nltk_data]       date!\n"
     ]
    }
   ],
   "source": [
    "# import libraries\n",
    "import nltk\n",
    "nltk.download(['punkt', 'wordnet', 'averaged_perceptron_tagger'])\n",
    "\n",
    "import re\n",
    "import numpy as np\n",
    "import pandas as pd\n",
    "\n",
    "from sqlalchemy import create_engine\n",
    "import sqlite3\n",
    "\n",
    "from nltk.tokenize import word_tokenize\n",
    "from nltk.stem import WordNetLemmatizer\n",
    "\n",
    "from sklearn.model_selection import GridSearchCV\n",
    "from sklearn.multioutput import MultiOutputClassifier\n",
    "from sklearn.neighbors import KNeighborsClassifier\n",
    "from sklearn.model_selection import train_test_split\n",
    "from sklearn.pipeline import Pipeline, FeatureUnion\n",
    "from sklearn.base import BaseEstimator, TransformerMixin\n",
    "from sklearn.feature_extraction.text import CountVectorizer, TfidfTransformer"
   ]
  },
  {
   "cell_type": "code",
   "execution_count": 2,
   "metadata": {
    "scrolled": true
   },
   "outputs": [],
   "source": [
    "# load data from database\n",
    "engine = create_engine('sqlite:///InsertDatabaseName.db')\n",
    "df = pd.read_sql_table('InsertDatabaseName', engine)\n",
    "\n",
    "# Assign message column as inputs and category columns as targets\n",
    "X = df.message.values\n",
    "y = df.iloc[:,4:].values"
   ]
  },
  {
   "cell_type": "markdown",
   "metadata": {},
   "source": [
    "### 2. Write a tokenization function to process your text data"
   ]
  },
  {
   "cell_type": "code",
   "execution_count": 3,
   "metadata": {},
   "outputs": [],
   "source": [
    "def tokenize(text):\n",
    "    # text = re.sub(r\"[^a-zA-Z0-9]\", \" \", text)\n",
    "    tokens = word_tokenize(text)\n",
    "    lemmatizer = WordNetLemmatizer()\n",
    "    \n",
    "    clean_tokens = []\n",
    "    \n",
    "    for tok in tokens:\n",
    "        clean_tok = lemmatizer.lemmatize(tok).lower().strip()\n",
    "        clean_tokens.append(clean_tok)\n",
    "        \n",
    "    return clean_tokens"
   ]
  },
  {
   "cell_type": "markdown",
   "metadata": {},
   "source": [
    "### 3. Build a machine learning pipeline\n",
    "This machine pipeline should take in the `message` column as input and output classification results on the other 36 categories in the dataset. You may find the [MultiOutputClassifier](http://scikit-learn.org/stable/modules/generated/sklearn.multioutput.MultiOutputClassifier.html) helpful for predicting multiple target variables."
   ]
  },
  {
   "cell_type": "code",
   "execution_count": 4,
   "metadata": {},
   "outputs": [],
   "source": [
    "pipeline = Pipeline([\n",
    "    ('vect', CountVectorizer(tokenizer=tokenize)),\n",
    "    ('tfidf', TfidfTransformer()),\n",
    "    ('clf', MultiOutputClassifier(KNeighborsClassifier()))\n",
    "])"
   ]
  },
  {
   "cell_type": "markdown",
   "metadata": {},
   "source": [
    "### 4. Train pipeline\n",
    "- Split data into train and test sets\n",
    "- Train pipeline"
   ]
  },
  {
   "cell_type": "code",
   "execution_count": 5,
   "metadata": {},
   "outputs": [],
   "source": [
    "# Split train and test datasets:\n",
    "X_train, X_test, y_train, y_test = train_test_split(X,y, random_state=42)\n",
    "\n",
    "# Training the pipeline:\n",
    "pipeline.fit(X_train, y_train)\n",
    "predicted = pipeline.predict(X_test)"
   ]
  },
  {
   "cell_type": "markdown",
   "metadata": {},
   "source": [
    "### 5. Test your model\n",
    "Report the f1 score, precision and recall for each output category of the dataset. You can do this by iterating through the columns and calling sklearn's `classification_report` on each."
   ]
  },
  {
   "cell_type": "code",
   "execution_count": 6,
   "metadata": {},
   "outputs": [
    {
     "name": "stdout",
     "output_type": "stream",
     "text": [
      "                        precision    recall  f1-score   support\n",
      "\n",
      "               related       0.66      0.94      0.78      1688\n",
      "               request       0.39      0.07      0.11       908\n",
      "                 offer       1.00      0.00      0.00         4\n",
      "           aid_related       0.37      0.07      0.12       972\n",
      "          medical_help       1.00      0.00      0.00       137\n",
      "      medical_products       1.00      0.00      0.00        77\n",
      "     search_and_rescue       1.00      0.00      0.00        44\n",
      "              security       1.00      0.00      0.00        35\n",
      "              military       1.00      0.00      0.00         7\n",
      "           child_alone       1.00      1.00      1.00         0\n",
      "                 water       0.00      0.00      0.00       183\n",
      "                  food       0.33      0.01      0.03       384\n",
      "               shelter       0.00      0.00      0.00       275\n",
      "              clothing       1.00      0.00      0.00        21\n",
      "                 money       1.00      0.00      0.00        27\n",
      "        missing_people       1.00      0.00      0.00        19\n",
      "              refugees       1.00      0.00      0.00        43\n",
      "                 death       1.00      0.00      0.00        77\n",
      "             other_aid       0.06      0.00      0.01       344\n",
      "infrastructure_related       1.00      0.00      0.00        73\n",
      "             transport       1.00      0.00      0.00        48\n",
      "             buildings       1.00      0.00      0.00        93\n",
      "           electricity       1.00      0.00      0.00        15\n",
      "                 tools       1.00      0.00      0.00         9\n",
      "             hospitals       1.00      0.00      0.00         8\n",
      "                 shops       1.00      0.00      0.00         5\n",
      "           aid_centers       1.00      0.00      0.00        20\n",
      "  other_infrastructure       1.00      0.00      0.00        44\n",
      "       weather_related       0.30      0.10      0.16       392\n",
      "                floods       0.40      0.03      0.06        67\n",
      "                 storm       1.00      0.00      0.00        77\n",
      "                  fire       1.00      0.00      0.00         8\n",
      "            earthquake       0.33      0.00      0.01       221\n",
      "                  cold       1.00      0.00      0.00        13\n",
      "         other_weather       1.00      0.00      0.00        48\n",
      "         direct_report       0.36      0.06      0.10       873\n",
      "\n",
      "             micro avg       0.59      0.25      0.35      7259\n",
      "             macro avg       0.78      0.06      0.07      7259\n",
      "          weighted avg       0.48      0.25      0.23      7259\n",
      "           samples avg       0.65      0.62      0.35      7259\n",
      "\n"
     ]
    }
   ],
   "source": [
    "# Printing the classification report using scikit-learn method:\n",
    "from sklearn.metrics import classification_report\n",
    "\n",
    "# input datasets for classification report function should be dataframes:\n",
    "category_names = df.iloc[:,4:].columns\n",
    "y_test_df = pd.DataFrame(y_test, columns=category_names)\n",
    "predicted_df = pd.DataFrame(predicted, columns = category_names)\n",
    "\n",
    "print(classification_report(y_test_df, predicted_df, target_names= category_names, zero_division=1))"
   ]
  },
  {
   "cell_type": "markdown",
   "metadata": {},
   "source": [
    "### 6. Improve your model\n",
    "Use grid search to find better parameters. "
   ]
  },
  {
   "cell_type": "code",
   "execution_count": null,
   "metadata": {},
   "outputs": [],
   "source": [
    "# perform grid search with the chosen parameters \n",
    "parameters = {\n",
    "    'vect__ngram_range': ((1,1),(1,2)),\n",
    "    'clf__estimator__leaf_size': [30,40,50],\n",
    "    'clf__estimator__n_neighbors':[5,7,9]\n",
    "}\n",
    "\n",
    "cv = GridSearchCV(pipeline, param_grid=parameters)\n",
    "cv.fit(X_train, y_train)\n",
    "predicted = cv.predict(X_test)\n",
    "print(\"\\nBest Parameters:\", cv.best_params_)"
   ]
  },
  {
   "cell_type": "markdown",
   "metadata": {},
   "source": [
    "### 7. Test your model\n",
    "Show the accuracy, precision, and recall of the tuned model.  \n",
    "\n",
    "Since this project focuses on code quality, process, and  pipelines, there is no minimum performance metric needed to pass. However, make sure to fine tune your models for accuracy, precision and recall to make your project stand out - especially for your portfolio!"
   ]
  },
  {
   "cell_type": "code",
   "execution_count": null,
   "metadata": {},
   "outputs": [],
   "source": [
    "predicted_df = pd.DataFrame(predicted, columns = category_names)\n",
    "print(classification_report(y_test_df, predicted_df, target_names= category_names))"
   ]
  },
  {
   "cell_type": "markdown",
   "metadata": {},
   "source": [
    "### 8. Try improving your model further. Here are a few ideas:\n",
    "* try other machine learning algorithms\n",
    "* add other features besides the TF-IDF"
   ]
  },
  {
   "cell_type": "code",
   "execution_count": 7,
   "metadata": {},
   "outputs": [],
   "source": [
    "# adding a new extractor to be used as an additional transformer in out pipeline:\n",
    "class StartingVerbExtractor(BaseEstimator, TransformerMixin):\n",
    "\n",
    "    def starting_verb(self, text):\n",
    "        sentence_list = nltk.sent_tokenize(text)\n",
    "        for sentence in sentence_list:\n",
    "            pos_tags = nltk.pos_tag(tokenize(sentence))\n",
    "            first_word, first_tag = pos_tags[0]\n",
    "            if first_tag in ['VB', 'VBP'] or first_word == 'RT':\n",
    "                return True\n",
    "        return False\n",
    "\n",
    "    def fit(self, x, y=None):\n",
    "        return self\n",
    "\n",
    "    def transform(self, X):\n",
    "        X_tagged = pd.Series(X).apply(self.starting_verb)\n",
    "        return pd.DataFrame(X_tagged)"
   ]
  },
  {
   "cell_type": "code",
   "execution_count": 8,
   "metadata": {},
   "outputs": [],
   "source": [
    "# define a new fucntion for comparing different ML algorythms:\n",
    "from sklearn.metrics import classification_report\n",
    "category_names = df.iloc[:,4:].columns\n",
    "def ClassifierComp(classifier):\n",
    "    pipeline = Pipeline([\n",
    "        ('Features', FeatureUnion([\n",
    "            ('text_pipeline', Pipeline([\n",
    "                ('vect', CountVectorizer(tokenizer=tokenize)),\n",
    "                ('tfidf', TfidfTransformer())\n",
    "            ])),\n",
    "            ('starting_verb', StartingVerbExtractor())\n",
    "        ])),\n",
    "\n",
    "        ('clf', MultiOutputClassifier(classifier))\n",
    "    ])\n",
    "    X_train, X_test, y_train, y_test = train_test_split(X,y, random_state=42)\n",
    "    pipeline.fit(X_train, y_train)\n",
    "    predicted = pipeline.predict(X_test)\n",
    "    y_test_df = pd.DataFrame(y_test, columns=category_names)\n",
    "    predicted_df = pd.DataFrame(predicted, columns = category_names)\n",
    "    report = classification_report(y_test_df, predicted_df, \n",
    "                                   target_names= category_names,\n",
    "                                   output_dict=True, \n",
    "                                   zero_division=1)\n",
    "    return report['weighted avg']['f1-score']"
   ]
  },
  {
   "cell_type": "code",
   "execution_count": 22,
   "metadata": {},
   "outputs": [
    {
     "name": "stdout",
     "output_type": "stream",
     "text": [
      "DecisionTreeClassifier 0.34020879155417455\n",
      "ExtraTreeClassifier 0.3300385672894629\n",
      "ExtraTreesClassifier 0.2445681402965983\n",
      "RandomForestClassifier 0.2508412544373674\n",
      "KNeighborsClassifier 0.25198990247067654\n"
     ]
    }
   ],
   "source": [
    "# import libraries for multioutput classifiers based on scikit-learn documentation\n",
    "from sklearn.tree import DecisionTreeClassifier\n",
    "from sklearn.tree import ExtraTreeClassifier\n",
    "from sklearn.ensemble import ExtraTreesClassifier\n",
    "from sklearn.neighbors import NearestNeighbors\n",
    "from sklearn.neighbors import RadiusNeighborsClassifier\n",
    "from sklearn.ensemble import RandomForestClassifier\n",
    "# iterating through the list of classifiers to compare their f1-score:\n",
    "Classifiers = [DecisionTreeClassifier(), ExtraTreeClassifier(), ExtraTreesClassifier(), \n",
    "               RandomForestClassifier(), KNeighborsClassifier()]\n",
    "\n",
    "for classifier in Classifiers:\n",
    "    print(str(classifier)[:-2], ClassifierComp(classifier))\n",
    "\n",
    "# Comp_table = pd.DataFrame(scores, columns=['Classifiers', 'f1-score'])\n",
    "# Comp_table.sort_values(by='f1-score', ascending=False)"
   ]
  },
  {
   "cell_type": "code",
   "execution_count": 12,
   "metadata": {},
   "outputs": [],
   "source": [
    "# According to the last cell's resurlt, we chose DecisionTreeClassifier as our estimator:\n",
    "from sklearn.tree import DecisionTreeClassifier\n",
    "from sklearn.metrics import classification_report\n",
    "category_names = df.iloc[:,4:].columns\n",
    "pipeline = Pipeline([\n",
    "    ('Features', FeatureUnion([\n",
    "        ('text_pipeline', Pipeline([\n",
    "            ('vect', CountVectorizer(tokenizer=tokenize)),\n",
    "            ('tfidf', TfidfTransformer())\n",
    "        ])),\n",
    "        ('starting_verb', StartingVerbExtractor())\n",
    "    ])),\n",
    "\n",
    "    ('clf', MultiOutputClassifier(DecisionTreeClassifier()))\n",
    "])\n",
    "X_train, X_test, y_train, y_test = train_test_split(X,y, random_state=42)\n",
    "pipeline.fit(X_train, y_train)\n",
    "predicted = pipeline.predict(X_test)"
   ]
  },
  {
   "cell_type": "code",
   "execution_count": 13,
   "metadata": {},
   "outputs": [
    {
     "name": "stdout",
     "output_type": "stream",
     "text": [
      "                        precision    recall  f1-score   support\n",
      "\n",
      "               related       0.66      0.70      0.68      1688\n",
      "               request       0.38      0.34      0.36       908\n",
      "                 offer       1.00      0.00      0.00         4\n",
      "           aid_related       0.43      0.42      0.42       972\n",
      "          medical_help       0.05      0.04      0.04       137\n",
      "      medical_products       0.04      0.04      0.04        77\n",
      "     search_and_rescue       0.00      0.00      0.00        44\n",
      "              security       0.03      0.03      0.03        35\n",
      "              military       0.00      0.00      0.00         7\n",
      "           child_alone       1.00      1.00      1.00         0\n",
      "                 water       0.12      0.10      0.11       183\n",
      "                  food       0.17      0.14      0.15       384\n",
      "               shelter       0.11      0.11      0.11       275\n",
      "              clothing       0.00      0.00      0.00        21\n",
      "                 money       0.00      0.00      0.00        27\n",
      "        missing_people       0.00      0.00      0.00        19\n",
      "              refugees       0.00      0.00      0.00        43\n",
      "                 death       0.05      0.03      0.03        77\n",
      "             other_aid       0.11      0.09      0.10       344\n",
      "infrastructure_related       0.02      0.01      0.01        73\n",
      "             transport       0.00      0.00      0.00        48\n",
      "             buildings       0.01      0.01      0.01        93\n",
      "           electricity       0.00      0.00      0.00        15\n",
      "                 tools       0.00      0.00      0.00         9\n",
      "             hospitals       0.00      0.00      0.00         8\n",
      "                 shops       0.00      0.00      0.00         5\n",
      "           aid_centers       0.00      0.00      0.00        20\n",
      "  other_infrastructure       0.03      0.02      0.03        44\n",
      "       weather_related       0.19      0.18      0.18       392\n",
      "                floods       0.15      0.09      0.11        67\n",
      "                 storm       0.05      0.04      0.04        77\n",
      "                  fire       0.00      0.00      0.00         8\n",
      "            earthquake       0.05      0.04      0.04       221\n",
      "                  cold       0.00      0.00      0.00        13\n",
      "         other_weather       0.02      0.02      0.02        48\n",
      "         direct_report       0.35      0.33      0.34       873\n",
      "\n",
      "             micro avg       0.36      0.34      0.35      7259\n",
      "             macro avg       0.14      0.11      0.11      7259\n",
      "          weighted avg       0.34      0.34      0.34      7259\n",
      "           samples avg       0.43      0.63      0.29      7259\n",
      "\n"
     ]
    }
   ],
   "source": [
    "category_names = df.iloc[:,4:].columns\n",
    "y_test_df = pd.DataFrame(y_test, columns=category_names)\n",
    "predicted_df = pd.DataFrame(predicted, columns = category_names)\n",
    "\n",
    "print(classification_report(y_test_df, predicted_df, target_names= category_names, zero_division=1))"
   ]
  },
  {
   "cell_type": "code",
   "execution_count": 14,
   "metadata": {},
   "outputs": [
    {
     "name": "stdout",
     "output_type": "stream",
     "text": [
      "\n",
      "Best Parameters: {'Features__text_pipeline__tfidf__smooth_idf': False, 'Features__text_pipeline__tfidf__use_idf': False, 'Features__text_pipeline__vect__max_df': 0.5, 'Features__text_pipeline__vect__max_features': None, 'Features__text_pipeline__vect__ngram_range': (1, 1)}\n"
     ]
    }
   ],
   "source": [
    "# now we can perform another grid search on this new estimator to be sure we have the best parameters\n",
    "parameters = {\n",
    "    'Features__text_pipeline__vect__ngram_range': ((1,1),(1,2)),\n",
    "    'Features__text_pipeline__tfidf__use_idf': (True, False),\n",
    "    'Features__text_pipeline__vect__max_df': [0.5,1.0],\n",
    "    'Features__text_pipeline__vect__max_features': [100, 500, 1000, None],\n",
    "    'Features__text_pipeline__tfidf__smooth_idf': (True, False)    \n",
    "}\n",
    "\n",
    "cv = GridSearchCV(pipeline, param_grid=parameters)\n",
    "cv.fit(X_train, y_train)\n",
    "predicted = cv.predict(X_test)\n",
    "print(\"\\nBest Parameters:\", cv.best_params_)"
   ]
  },
  {
   "cell_type": "markdown",
   "metadata": {},
   "source": [
    "### 9. Export your model as a pickle file"
   ]
  },
  {
   "cell_type": "code",
   "execution_count": 16,
   "metadata": {},
   "outputs": [],
   "source": [
    "import pickle\n",
    "pkl_filename = \"DisasterResponse_model.pkl\"\n",
    "with open(pkl_filename, 'wb') as file:\n",
    "    pickle.dump(cv.best_estimator_, file)"
   ]
  },
  {
   "cell_type": "markdown",
   "metadata": {},
   "source": [
    "### 10. Use this notebook to complete `train.py`\n",
    "Use the template file attached in the Resources folder to write a script that runs the steps above to create a database and export a model based on a new dataset specified by the user."
   ]
  },
  {
   "cell_type": "code",
   "execution_count": null,
   "metadata": {},
   "outputs": [],
   "source": []
  }
 ],
 "metadata": {
  "kernelspec": {
   "display_name": "Python 3",
   "language": "python",
   "name": "python3"
  },
  "language_info": {
   "codemirror_mode": {
    "name": "ipython",
    "version": 3
   },
   "file_extension": ".py",
   "mimetype": "text/x-python",
   "name": "python",
   "nbconvert_exporter": "python",
   "pygments_lexer": "ipython3",
   "version": "3.8.5"
  }
 },
 "nbformat": 4,
 "nbformat_minor": 2
}
