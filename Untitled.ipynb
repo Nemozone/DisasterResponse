{
 "cells": [
  {
   "cell_type": "code",
   "execution_count": 15,
   "metadata": {},
   "outputs": [
    {
     "name": "stderr",
     "output_type": "stream",
     "text": [
      "[nltk_data] Downloading package punkt to C:\\Users\\Captain\n",
      "[nltk_data]     Nemo\\AppData\\Roaming\\nltk_data...\n",
      "[nltk_data]   Package punkt is already up-to-date!\n",
      "[nltk_data] Downloading package wordnet to C:\\Users\\Captain\n",
      "[nltk_data]     Nemo\\AppData\\Roaming\\nltk_data...\n",
      "[nltk_data]   Package wordnet is already up-to-date!\n",
      "[nltk_data] Downloading package averaged_perceptron_tagger to\n",
      "[nltk_data]     C:\\Users\\Captain Nemo\\AppData\\Roaming\\nltk_data...\n",
      "[nltk_data]   Package averaged_perceptron_tagger is already up-to-\n",
      "[nltk_data]       date!\n"
     ]
    }
   ],
   "source": [
    "import nltk\n",
    "nltk.download(['punkt', 'wordnet', 'averaged_perceptron_tagger'])\n",
    "import re\n",
    "from nltk.tokenize import word_tokenize , sent_tokenize\n",
    "from nltk.stem import WordNetLemmatizer\n",
    "\n",
    "from sklearn.base import BaseEstimator, TransformerMixin\n"
   ]
  },
  {
   "cell_type": "code",
   "execution_count": 16,
   "metadata": {},
   "outputs": [],
   "source": [
    "text = 'i agree with everything the ministry of health says. but i have problmes finding food and water that is more urgent. its there that we need urgent help. muller avenue carrefour'"
   ]
  },
  {
   "cell_type": "code",
   "execution_count": 17,
   "metadata": {},
   "outputs": [],
   "source": [
    "def tokenize(text):\n",
    "    text = re.sub(r\"[^a-zA-Z0-9]\", \" \", text)\n",
    "    tokens = word_tokenize(text)\n",
    "    lemmatizer = WordNetLemmatizer()\n",
    "    \n",
    "    clean_tokens = []\n",
    "    \n",
    "    for tok in tokens:\n",
    "        clean_tok = lemmatizer.lemmatize(tok).lower().strip()\n",
    "        clean_tokens.append(clean_tok)\n",
    "        \n",
    "    return clean_tokens"
   ]
  },
  {
   "cell_type": "code",
   "execution_count": 29,
   "metadata": {},
   "outputs": [],
   "source": [
    "class StartingVerbExtractor(BaseEstimator, TransformerMixin):\n",
    "\n",
    "    def starting_verb(self, text):\n",
    "        pos_tags = []\n",
    "        sentence_list = nltk.sent_tokenize(text)\n",
    "        for sentence in sentence_list:\n",
    "            pos_tags.append(nltk.pos_tag(tokenize(sentence)))\n",
    "            first_word, first_tag = pos_tags[0][0]\n",
    "            if first_tag in ['VB', 'VBP'] or first_word == 'RT':\n",
    "                return True\n",
    "        return False\n",
    "\n",
    "    def fit(self, x, y=None):\n",
    "        return self\n",
    "\n",
    "    def transform(self, X):\n",
    "        X_tagged = pd.Series(X).apply(self.starting_verb)\n",
    "        return pd.DataFrame(X_tagged)\n"
   ]
  },
  {
   "cell_type": "code",
   "execution_count": 30,
   "metadata": {},
   "outputs": [],
   "source": [
    "start = StartingVerbExtractor()"
   ]
  },
  {
   "cell_type": "code",
   "execution_count": 31,
   "metadata": {},
   "outputs": [
    {
     "data": {
      "text/plain": [
       "False"
      ]
     },
     "execution_count": 31,
     "metadata": {},
     "output_type": "execute_result"
    }
   ],
   "source": [
    "start.starting_verb(text)"
   ]
  },
  {
   "cell_type": "code",
   "execution_count": 25,
   "metadata": {},
   "outputs": [],
   "source": [
    "pos_tags = []\n",
    "sentence_list = nltk.sent_tokenize(text)\n",
    "for sentence in sentence_list:\n",
    "    pos_tags.append(nltk.pos_tag(tokenize(sentence)))"
   ]
  },
  {
   "cell_type": "code",
   "execution_count": 26,
   "metadata": {},
   "outputs": [
    {
     "data": {
      "text/plain": [
       "[[('i', 'NNS'),\n",
       "  ('agree', 'VBP'),\n",
       "  ('with', 'IN'),\n",
       "  ('everything', 'NN'),\n",
       "  ('the', 'DT'),\n",
       "  ('ministry', 'NN'),\n",
       "  ('of', 'IN'),\n",
       "  ('health', 'NN'),\n",
       "  ('say', 'VBP')],\n",
       " [('but', 'CC'),\n",
       "  ('i', 'NNS'),\n",
       "  ('have', 'VBP'),\n",
       "  ('problmes', 'NNS'),\n",
       "  ('finding', 'VBG'),\n",
       "  ('food', 'NN'),\n",
       "  ('and', 'CC'),\n",
       "  ('water', 'NN'),\n",
       "  ('that', 'WDT'),\n",
       "  ('is', 'VBZ'),\n",
       "  ('more', 'RBR'),\n",
       "  ('urgent', 'JJ')],\n",
       " [('it', 'PRP'),\n",
       "  ('there', 'EX'),\n",
       "  ('that', 'IN'),\n",
       "  ('we', 'PRP'),\n",
       "  ('need', 'VBP'),\n",
       "  ('urgent', 'JJ'),\n",
       "  ('help', 'NN')],\n",
       " [('muller', 'NN'), ('avenue', 'NN'), ('carrefour', 'NN')]]"
      ]
     },
     "execution_count": 26,
     "metadata": {},
     "output_type": "execute_result"
    }
   ],
   "source": [
    "pos_tags"
   ]
  },
  {
   "cell_type": "code",
   "execution_count": 28,
   "metadata": {},
   "outputs": [
    {
     "data": {
      "text/plain": [
       "('i', 'NNS')"
      ]
     },
     "execution_count": 28,
     "metadata": {},
     "output_type": "execute_result"
    }
   ],
   "source": [
    "pos_tags[0][0]"
   ]
  },
  {
   "cell_type": "code",
   "execution_count": 23,
   "metadata": {},
   "outputs": [
    {
     "data": {
      "text/plain": [
       "['i agree with everything the ministry of health says.',\n",
       " 'but i have problmes finding food and water that is more urgent.',\n",
       " 'its there that we need urgent help.',\n",
       " 'muller avenue carrefour']"
      ]
     },
     "execution_count": 23,
     "metadata": {},
     "output_type": "execute_result"
    }
   ],
   "source": [
    "sentence_list"
   ]
  },
  {
   "cell_type": "code",
   "execution_count": 24,
   "metadata": {},
   "outputs": [
    {
     "data": {
      "text/plain": [
       "['i',\n",
       " 'agree',\n",
       " 'with',\n",
       " 'everything',\n",
       " 'the',\n",
       " 'ministry',\n",
       " 'of',\n",
       " 'health',\n",
       " 'say',\n",
       " 'but',\n",
       " 'i',\n",
       " 'have',\n",
       " 'problmes',\n",
       " 'finding',\n",
       " 'food',\n",
       " 'and',\n",
       " 'water',\n",
       " 'that',\n",
       " 'is',\n",
       " 'more',\n",
       " 'urgent',\n",
       " 'it',\n",
       " 'there',\n",
       " 'that',\n",
       " 'we',\n",
       " 'need',\n",
       " 'urgent',\n",
       " 'help',\n",
       " 'muller',\n",
       " 'avenue',\n",
       " 'carrefour']"
      ]
     },
     "execution_count": 24,
     "metadata": {},
     "output_type": "execute_result"
    }
   ],
   "source": [
    "tokenize(text)"
   ]
  },
  {
   "cell_type": "code",
   "execution_count": null,
   "metadata": {},
   "outputs": [],
   "source": []
  }
 ],
 "metadata": {
  "kernelspec": {
   "display_name": "Python 3",
   "language": "python",
   "name": "python3"
  },
  "language_info": {
   "codemirror_mode": {
    "name": "ipython",
    "version": 3
   },
   "file_extension": ".py",
   "mimetype": "text/x-python",
   "name": "python",
   "nbconvert_exporter": "python",
   "pygments_lexer": "ipython3",
   "version": "3.8.5"
  }
 },
 "nbformat": 4,
 "nbformat_minor": 4
}
